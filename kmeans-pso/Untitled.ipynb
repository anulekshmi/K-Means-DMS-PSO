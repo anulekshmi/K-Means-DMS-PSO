{
 "cells": [
  {
   "cell_type": "code",
   "execution_count": 1,
   "metadata": {},
   "outputs": [],
   "source": [
    "import pandas as pd\n",
    "import numpy as np\n",
    "import matplotlib.pyplot as plt\n",
    "%matplotlib inline"
   ]
  },
  {
   "cell_type": "code",
   "execution_count": 2,
   "metadata": {},
   "outputs": [
    {
     "data": {
      "text/html": [
       "<div>\n",
       "<style>\n",
       "    .dataframe thead tr:only-child th {\n",
       "        text-align: right;\n",
       "    }\n",
       "\n",
       "    .dataframe thead th {\n",
       "        text-align: left;\n",
       "    }\n",
       "\n",
       "    .dataframe tbody tr th {\n",
       "        vertical-align: top;\n",
       "    }\n",
       "</style>\n",
       "<table border=\"1\" class=\"dataframe\">\n",
       "  <thead>\n",
       "    <tr style=\"text-align: right;\">\n",
       "      <th></th>\n",
       "      <th>0</th>\n",
       "      <th>1</th>\n",
       "      <th>2</th>\n",
       "      <th>3</th>\n",
       "      <th>4</th>\n",
       "      <th>5</th>\n",
       "      <th>6</th>\n",
       "      <th>7</th>\n",
       "    </tr>\n",
       "  </thead>\n",
       "  <tbody>\n",
       "    <tr>\n",
       "      <th>0</th>\n",
       "      <td>15.26</td>\n",
       "      <td>14.84</td>\n",
       "      <td>0.8710</td>\n",
       "      <td>5.763</td>\n",
       "      <td>3.312</td>\n",
       "      <td>2.221</td>\n",
       "      <td>5.220</td>\n",
       "      <td>1</td>\n",
       "    </tr>\n",
       "    <tr>\n",
       "      <th>1</th>\n",
       "      <td>14.88</td>\n",
       "      <td>14.57</td>\n",
       "      <td>0.8811</td>\n",
       "      <td>5.554</td>\n",
       "      <td>3.333</td>\n",
       "      <td>1.018</td>\n",
       "      <td>4.956</td>\n",
       "      <td>1</td>\n",
       "    </tr>\n",
       "    <tr>\n",
       "      <th>2</th>\n",
       "      <td>14.29</td>\n",
       "      <td>14.09</td>\n",
       "      <td>0.9050</td>\n",
       "      <td>5.291</td>\n",
       "      <td>3.337</td>\n",
       "      <td>2.699</td>\n",
       "      <td>4.825</td>\n",
       "      <td>1</td>\n",
       "    </tr>\n",
       "    <tr>\n",
       "      <th>3</th>\n",
       "      <td>13.84</td>\n",
       "      <td>13.94</td>\n",
       "      <td>0.8955</td>\n",
       "      <td>5.324</td>\n",
       "      <td>3.379</td>\n",
       "      <td>2.259</td>\n",
       "      <td>4.805</td>\n",
       "      <td>1</td>\n",
       "    </tr>\n",
       "    <tr>\n",
       "      <th>4</th>\n",
       "      <td>16.14</td>\n",
       "      <td>14.99</td>\n",
       "      <td>0.9034</td>\n",
       "      <td>5.658</td>\n",
       "      <td>3.562</td>\n",
       "      <td>1.355</td>\n",
       "      <td>5.175</td>\n",
       "      <td>1</td>\n",
       "    </tr>\n",
       "  </tbody>\n",
       "</table>\n",
       "</div>"
      ],
      "text/plain": [
       "       0      1       2      3      4      5      6  7\n",
       "0  15.26  14.84  0.8710  5.763  3.312  2.221  5.220  1\n",
       "1  14.88  14.57  0.8811  5.554  3.333  1.018  4.956  1\n",
       "2  14.29  14.09  0.9050  5.291  3.337  2.699  4.825  1\n",
       "3  13.84  13.94  0.8955  5.324  3.379  2.259  4.805  1\n",
       "4  16.14  14.99  0.9034  5.658  3.562  1.355  5.175  1"
      ]
     },
     "execution_count": 2,
     "metadata": {},
     "output_type": "execute_result"
    }
   ],
   "source": [
    "data = pd.read_csv('seed.txt', sep='\\t', header=None)\n",
    "data.head()"
   ]
  },
  {
   "cell_type": "code",
   "execution_count": 4,
   "metadata": {},
   "outputs": [],
   "source": [
    "x = data.drop([7], axis=1)\n",
    "x = x.values\n",
    "x = normalize(x)"
   ]
  },
  {
   "cell_type": "code",
   "execution_count": 18,
   "metadata": {},
   "outputs": [],
   "source": [
    "from pso import ParticleSwarmOptimizedClustering\n",
    "from particle import quantization_error, calc_sse\n",
    "from utils import normalize\n",
    "from kmeans import KMeans\n",
    "from sklearn.metrics import silhouette_score"
   ]
  },
  {
   "cell_type": "markdown",
   "metadata": {},
   "source": [
    "# K-Means"
   ]
  },
  {
   "cell_type": "code",
   "execution_count": 5,
   "metadata": {},
   "outputs": [],
   "source": [
    "kmeans = KMeans(n_cluster=3, init_pp=False, seed=2018)\n",
    "kmeans.fit(x)"
   ]
  },
  {
   "cell_type": "code",
   "execution_count": 6,
   "metadata": {},
   "outputs": [
    {
     "name": "stdout",
     "output_type": "stream",
     "text": [
      "Silhouette: 0.42212676242\n",
      "SSE: 22.0264512266\n",
      "Quantization: 2.70759080945\n"
     ]
    }
   ],
   "source": [
    "predicted_kmeans = kmeans.predict(x)\n",
    "print('Silhouette:', silhouette_score(x, predicted_kmeans))\n",
    "print('SSE:', kmeans.SSE)\n",
    "print('Quantization:', quantization_error(centroids=kmeans.centroid, data=x, labels=predicted_kmeans))"
   ]
  },
  {
   "cell_type": "code",
   "execution_count": 13,
   "metadata": {},
   "outputs": [
    {
     "name": "stdout",
     "output_type": "stream",
     "text": [
      "Silhouette: 0.42212676242\n",
      "SSE: 22.0243630757\n",
      "Quantization: 2.70829286554\n"
     ]
    }
   ],
   "source": [
    "kmeans2 = KMeans(n_cluster=3, init_pp=True, seed=2018)\n",
    "kmeans2.fit(x)\n",
    "predicted_kmeans2 = kmeans2.predict(x)\n",
    "print('Silhouette:', silhouette_score(x, predicted_kmeans))\n",
    "print('SSE:', kmeans2.SSE)\n",
    "print('Quantization:', quantization_error(centroids=kmeans2.centroid, data=x, labels=predicted_kmeans2))"
   ]
  },
  {
   "cell_type": "markdown",
   "metadata": {},
   "source": [
    "# PSO"
   ]
  },
  {
   "cell_type": "code",
   "execution_count": 23,
   "metadata": {},
   "outputs": [],
   "source": [
    "pso = ParticleSwarmOptimizedClustering(\n",
    "        n_cluster=3, n_particles=10, data=x, hybrid=True, max_iter=2000, print_debug=50)"
   ]
  },
  {
   "cell_type": "code",
   "execution_count": 24,
   "metadata": {},
   "outputs": [
    {
     "name": "stdout",
     "output_type": "stream",
     "text": [
      "Initial global best score 2.70829286554\n",
      "Iteration 0001/2000 current gbest score 2.708292865537892169\n",
      "Iteration 0051/2000 current gbest score 2.708292865537892169\n",
      "Iteration 0101/2000 current gbest score 2.707835657925311335\n",
      "Iteration 0151/2000 current gbest score 2.707781936967318170\n",
      "Iteration 0201/2000 current gbest score 2.707778992929485096\n",
      "Iteration 0251/2000 current gbest score 2.707778882641030282\n",
      "Iteration 0301/2000 current gbest score 2.707778867595734607\n",
      "Iteration 0351/2000 current gbest score 2.707778433441446087\n",
      "Iteration 0401/2000 current gbest score 2.707778035112180959\n",
      "Iteration 0451/2000 current gbest score 2.707776269309019934\n",
      "Iteration 0501/2000 current gbest score 2.707759852336307560\n",
      "Iteration 0551/2000 current gbest score 2.707748920943973570\n",
      "Iteration 0601/2000 current gbest score 2.707748856720776143\n",
      "Iteration 0651/2000 current gbest score 2.707748856720600283\n",
      "Iteration 0701/2000 current gbest score 2.707748856720600283\n",
      "Iteration 0751/2000 current gbest score 2.707748856720600283\n",
      "Iteration 0801/2000 current gbest score 2.707748856720600283\n",
      "Iteration 0851/2000 current gbest score 2.707748856720600283\n",
      "Iteration 0901/2000 current gbest score 2.707748856720600283\n",
      "Iteration 0951/2000 current gbest score 2.707748856720600283\n",
      "Iteration 1001/2000 current gbest score 2.707748856720600283\n",
      "Iteration 1051/2000 current gbest score 2.707748856720600283\n",
      "Iteration 1101/2000 current gbest score 2.707748856720600283\n",
      "Iteration 1151/2000 current gbest score 2.707748856720600283\n",
      "Iteration 1201/2000 current gbest score 2.707748856720600283\n",
      "Iteration 1251/2000 current gbest score 2.707748856720600283\n",
      "Iteration 1301/2000 current gbest score 2.707748856720600283\n",
      "Iteration 1351/2000 current gbest score 2.707748856720600283\n",
      "Iteration 1401/2000 current gbest score 2.707748856720600283\n",
      "Iteration 1451/2000 current gbest score 2.707748856720600283\n",
      "Iteration 1501/2000 current gbest score 2.707748856720600283\n",
      "Iteration 1551/2000 current gbest score 2.707748856720600283\n",
      "Iteration 1601/2000 current gbest score 2.707748856720600283\n",
      "Iteration 1651/2000 current gbest score 2.707748856720600283\n",
      "Iteration 1701/2000 current gbest score 2.707748856720600283\n",
      "Iteration 1751/2000 current gbest score 2.707748856720600283\n",
      "Iteration 1801/2000 current gbest score 2.707748856720600283\n",
      "Iteration 1851/2000 current gbest score 2.707748856720600283\n",
      "Iteration 1901/2000 current gbest score 2.707748856720600283\n",
      "Iteration 1951/2000 current gbest score 2.707748856720600283\n",
      "Finish with gbest score 2.707748856720600283\n"
     ]
    }
   ],
   "source": [
    "hist = pso.run()"
   ]
  },
  {
   "cell_type": "code",
   "execution_count": 25,
   "metadata": {},
   "outputs": [],
   "source": [
    "pso_kmeans = KMeans(n_cluster=3, init_pp=False, seed=2018)"
   ]
  },
  {
   "cell_type": "code",
   "execution_count": 26,
   "metadata": {},
   "outputs": [
    {
     "data": {
      "text/plain": [
       "array([[ 0.12244661,  0.1742572 ,  0.37766728,  0.18591758,  0.16186663,\n",
       "         0.50075285,  0.27955135],\n",
       "       [ 0.38426695,  0.42116004,  0.66906823,  0.36636775,  0.46882598,\n",
       "         0.26583124,  0.31975311],\n",
       "       [ 0.76065794,  0.79703446,  0.6949549 ,  0.73270224,  0.77247813,\n",
       "         0.36896239,  0.760346  ]])"
      ]
     },
     "execution_count": 26,
     "metadata": {},
     "output_type": "execute_result"
    }
   ],
   "source": [
    "pso_kmeans.centroid = pso.gbest_centroids.copy()\n",
    "pso_kmeans.centroid"
   ]
  },
  {
   "cell_type": "code",
   "execution_count": 28,
   "metadata": {},
   "outputs": [
    {
     "name": "stdout",
     "output_type": "stream",
     "text": [
      "Silhouette: 0.42212676242\n",
      "SSE: 22.0290053407\n",
      "Quantization: 2.70774885672\n"
     ]
    }
   ],
   "source": [
    "predicted_pso = pso_kmeans.predict(x)\n",
    "print('Silhouette:', silhouette_score(x, predicted_pso))\n",
    "print('SSE:', calc_sse(centroids=pso.gbest_centroids, data=x, labels=predicted_pso))\n",
    "print('Quantization:', pso.gbest_score)"
   ]
  },
  {
   "cell_type": "markdown",
   "metadata": {},
   "source": [
    "# Repeated Test"
   ]
  },
  {
   "cell_type": "markdown",
   "metadata": {},
   "source": [
    "### K-Means++"
   ]
  },
  {
   "cell_type": "code",
   "execution_count": 20,
   "metadata": {},
   "outputs": [],
   "source": [
    "kmeanspp = {\n",
    "    'silhouette': [],\n",
    "    'sse' : [],\n",
    "    'quantization' : [],\n",
    "}\n",
    "for _ in range(20):\n",
    "    kmean_rep = KMeans(n_cluster=3, init_pp=True)\n",
    "    kmean_rep.fit(x)\n",
    "    predicted_kmean_rep = kmean_rep.predict(x)\n",
    "    silhouette = silhouette_score(x, predicted_kmean_rep)\n",
    "    sse = kmean_rep.SSE\n",
    "    quantization = quantization_error(centroids=kmean_rep.centroid, data=x, labels=predicted_kmean_rep)\n",
    "    kmeanspp['silhouette'].append(silhouette)\n",
    "    kmeanspp['sse'].append(sse)\n",
    "    kmeanspp['quantization'].append(quantization)"
   ]
  },
  {
   "cell_type": "markdown",
   "metadata": {},
   "source": [
    "### PSO "
   ]
  },
  {
   "cell_type": "code",
   "execution_count": 29,
   "metadata": {},
   "outputs": [
    {
     "name": "stdout",
     "output_type": "stream",
     "text": [
      "Initial global best score 3.37155063658\n",
      "Iteration 0001/2000 current gbest score 3.371550636577500981\n",
      "Finish with gbest score 3.101407650631264001\n",
      "Initial global best score 3.07005197242\n",
      "Iteration 0001/2000 current gbest score 3.070051972422974007\n",
      "Finish with gbest score 3.054827626973843024\n",
      "Initial global best score 3.35830263074\n",
      "Iteration 0001/2000 current gbest score 3.358302630741595518\n",
      "Finish with gbest score 2.907495311773472313\n",
      "Initial global best score 3.60295586272\n",
      "Iteration 0001/2000 current gbest score 3.263453281827276786\n",
      "Finish with gbest score 2.939111114265818170\n",
      "Initial global best score 3.19082682979\n",
      "Iteration 0001/2000 current gbest score 3.190826829785005092\n",
      "Finish with gbest score 2.758444669332564825\n",
      "Initial global best score 3.73038722154\n",
      "Iteration 0001/2000 current gbest score 3.266340100811584879\n",
      "Finish with gbest score 2.801590956493404949\n",
      "Initial global best score 3.35783035244\n",
      "Iteration 0001/2000 current gbest score 3.098218479789883073\n",
      "Finish with gbest score 2.849043899431546567\n",
      "Initial global best score 3.20360754649\n",
      "Iteration 0001/2000 current gbest score 3.093685548511769579\n",
      "Finish with gbest score 2.845332393323400932\n",
      "Initial global best score 3.40885866339\n",
      "Iteration 0001/2000 current gbest score 3.408858663387206889\n",
      "Finish with gbest score 3.096314124602379536\n",
      "Initial global best score 3.26475176973\n",
      "Iteration 0001/2000 current gbest score 3.264751769727029629\n",
      "Finish with gbest score 2.945103907931534426\n",
      "Initial global best score 3.26462496634\n",
      "Iteration 0001/2000 current gbest score 3.264624966335199385\n",
      "Finish with gbest score 2.818717711368625700\n",
      "Initial global best score 3.56724860748\n",
      "Iteration 0001/2000 current gbest score 3.314830133503421816\n",
      "Finish with gbest score 2.725858260726180760\n",
      "Initial global best score 3.30212904335\n",
      "Iteration 0001/2000 current gbest score 3.277485877495537547\n",
      "Finish with gbest score 2.800793586285386549\n",
      "Initial global best score 3.55726279263\n",
      "Iteration 0001/2000 current gbest score 3.545892270876251473\n",
      "Finish with gbest score 3.044184448386847208\n",
      "Initial global best score 3.71934436643\n",
      "Iteration 0001/2000 current gbest score 3.605618984547862116\n",
      "Finish with gbest score 2.996351929684260451\n",
      "Initial global best score 3.36906968619\n",
      "Iteration 0001/2000 current gbest score 3.221386113550968044\n",
      "Finish with gbest score 2.914246806781417565\n",
      "Initial global best score 3.23586684\n",
      "Iteration 0001/2000 current gbest score 3.131432210164033947\n",
      "Finish with gbest score 2.804238675149985482\n",
      "Initial global best score 3.21971224662\n",
      "Iteration 0001/2000 current gbest score 3.219712246618937623\n",
      "Finish with gbest score 2.774784041079913166\n",
      "Initial global best score 3.40776114736\n",
      "Iteration 0001/2000 current gbest score 3.407761147357510456\n",
      "Finish with gbest score 2.926180728621600391\n",
      "Initial global best score 3.3405499646\n",
      "Iteration 0001/2000 current gbest score 3.223336850679725973\n",
      "Finish with gbest score 2.824882173170671695\n",
      "Wall time: 1min 49s\n"
     ]
    }
   ],
   "source": [
    "%%time\n",
    "pso_plain = {\n",
    "    'silhouette': [],\n",
    "    'sse' : [],\n",
    "    'quantization' : [],\n",
    "}\n",
    "for _ in range(20):\n",
    "    pso_rep = ParticleSwarmOptimizedClustering(\n",
    "        n_cluster=3, n_particles=10, data=x, hybrid=False, max_iter=2000, print_debug=2000)\n",
    "    pso_rep.run()\n",
    "    pso_kmeans = KMeans(n_cluster=3, init_pp=False, seed=2018)\n",
    "    pso_kmeans.centroid = pso_rep.gbest_centroids.copy()\n",
    "    predicted_pso_rep = pso_kmeans.predict(x)\n",
    "    \n",
    "    silhouette = silhouette_score(x, predicted_pso_rep)\n",
    "    sse = calc_sse(centroids=pso_rep.gbest_centroids, data=x, labels=predicted_pso_rep)\n",
    "    quantization = pso_rep.gbest_score\n",
    "    pso_plain['silhouette'].append(silhouette)\n",
    "    pso_plain['sse'].append(sse)\n",
    "    pso_plain['quantization'].append(quantization)"
   ]
  },
  {
   "cell_type": "markdown",
   "metadata": {},
   "source": [
    "### PSO Hybrid"
   ]
  },
  {
   "cell_type": "code",
   "execution_count": 30,
   "metadata": {},
   "outputs": [
    {
     "name": "stdout",
     "output_type": "stream",
     "text": [
      "Initial global best score 2.70829286554\n",
      "Iteration 0001/2000 current gbest score 2.708292865537892169\n",
      "Finish with gbest score 2.707647699944975894\n",
      "Initial global best score 2.70829286554\n",
      "Iteration 0001/2000 current gbest score 2.708292865537892169\n",
      "Finish with gbest score 2.707904781184771181\n",
      "Initial global best score 2.70759080945\n",
      "Iteration 0001/2000 current gbest score 2.707590809454386349\n",
      "Finish with gbest score 2.707590809454386349\n",
      "Initial global best score 2.70829286554\n",
      "Iteration 0001/2000 current gbest score 2.708292865537892169\n",
      "Finish with gbest score 2.707619636849610156\n",
      "Initial global best score 2.70759080945\n",
      "Iteration 0001/2000 current gbest score 2.707590809454386349\n",
      "Finish with gbest score 2.707590809454386349\n",
      "Initial global best score 2.70759080945\n",
      "Iteration 0001/2000 current gbest score 2.707590809454386349\n",
      "Finish with gbest score 2.707590809454386349\n",
      "Initial global best score 2.70829286554\n",
      "Iteration 0001/2000 current gbest score 2.708292865537892169\n",
      "Finish with gbest score 2.707608767874855715\n",
      "Initial global best score 2.70829286554\n",
      "Iteration 0001/2000 current gbest score 2.708292865537892169\n",
      "Finish with gbest score 2.707633825629673030\n",
      "Initial global best score 2.70759080945\n",
      "Iteration 0001/2000 current gbest score 2.707590809454386349\n",
      "Finish with gbest score 2.707590809454386349\n",
      "Initial global best score 2.70829286554\n",
      "Iteration 0001/2000 current gbest score 2.708292865537892613\n",
      "Finish with gbest score 2.707615411009072659\n",
      "Initial global best score 2.70759080945\n",
      "Iteration 0001/2000 current gbest score 2.707590809454386349\n",
      "Finish with gbest score 2.707590809454386349\n",
      "Initial global best score 2.70829286554\n",
      "Iteration 0001/2000 current gbest score 2.708292865537892613\n",
      "Finish with gbest score 2.707753093758179741\n",
      "Initial global best score 2.70829286554\n",
      "Iteration 0001/2000 current gbest score 2.708292865537892613\n",
      "Finish with gbest score 2.707664676093269662\n",
      "Initial global best score 2.70759080945\n",
      "Iteration 0001/2000 current gbest score 2.707590809454386349\n",
      "Finish with gbest score 2.707590809454386349\n",
      "Initial global best score 2.70759080945\n",
      "Iteration 0001/2000 current gbest score 2.707590809454386349\n",
      "Finish with gbest score 2.707590809454386349\n",
      "Initial global best score 2.70759080945\n",
      "Iteration 0001/2000 current gbest score 2.707590809454386349\n",
      "Finish with gbest score 2.707590809454386349\n",
      "Initial global best score 2.70829286554\n",
      "Iteration 0001/2000 current gbest score 2.708292865537892613\n",
      "Finish with gbest score 2.707653815220209648\n",
      "Initial global best score 2.70759080945\n",
      "Iteration 0001/2000 current gbest score 2.707590809454386349\n",
      "Finish with gbest score 2.707590809454386349\n",
      "Initial global best score 2.70829286554\n",
      "Iteration 0001/2000 current gbest score 2.708292865537892613\n",
      "Finish with gbest score 2.707640278314846771\n",
      "Initial global best score 2.70829286554\n",
      "Iteration 0001/2000 current gbest score 2.708292865537892169\n",
      "Finish with gbest score 2.707838462205663266\n",
      "Wall time: 1min 51s\n"
     ]
    }
   ],
   "source": [
    "%%time\n",
    "pso_hybrid = {\n",
    "    'silhouette': [],\n",
    "    'sse' : [],\n",
    "    'quantization' : [],\n",
    "}\n",
    "for _ in range(20):\n",
    "    pso_rep = ParticleSwarmOptimizedClustering(\n",
    "        n_cluster=3, n_particles=10, data=x, hybrid=True, max_iter=2000, print_debug=2000)\n",
    "    pso_rep.run()\n",
    "    pso_kmeans = KMeans(n_cluster=3, init_pp=False, seed=2018)\n",
    "    pso_kmeans.centroid = pso_rep.gbest_centroids.copy()\n",
    "    predicted_pso_rep = pso_kmeans.predict(x)\n",
    "    \n",
    "    silhouette = silhouette_score(x, predicted_pso_rep)\n",
    "    sse = calc_sse(centroids=pso_rep.gbest_centroids, data=x, labels=predicted_pso_rep)\n",
    "    quantization = pso_rep.gbest_score\n",
    "    pso_hybrid['silhouette'].append(silhouette)\n",
    "    pso_hybrid['sse'].append(sse)\n",
    "    pso_hybrid['quantization'].append(quantization)"
   ]
  },
  {
   "cell_type": "markdown",
   "metadata": {},
   "source": [
    "# Comparison"
   ]
  },
  {
   "cell_type": "code",
   "execution_count": 33,
   "metadata": {},
   "outputs": [],
   "source": [
    "benchmark = {\n",
    "    'method' : ['K-Means++', 'PSO', 'PSO Hybrid'],\n",
    "    'sse_mean' : [\n",
    "        np.around(np.mean(kmeanspp['sse']), decimals=10),\n",
    "        np.around(np.mean(pso_plain['sse']), decimals=10),\n",
    "        np.around(np.mean(pso_hybrid['sse']), decimals=10),\n",
    "    ],\n",
    "    'sse_stdev' : [\n",
    "        np.around(np.std(kmeanspp['sse']), decimals=10),\n",
    "        np.around(np.std(pso_plain['sse']), decimals=10),\n",
    "        np.around(np.std(pso_hybrid['sse']), decimals=10),\n",
    "    ],\n",
    "    'silhouette_mean' : [\n",
    "        np.around(np.mean(kmeanspp['silhouette']), decimals=10),\n",
    "        np.around(np.mean(pso_plain['silhouette']), decimals=10),\n",
    "        np.around(np.mean(pso_hybrid['silhouette']), decimals=10),\n",
    "    ],\n",
    "    'silhouette_stdev' : [\n",
    "        np.around(np.std(kmeanspp['silhouette']), decimals=10),\n",
    "        np.around(np.std(pso_plain['silhouette']), decimals=10),\n",
    "        np.around(np.std(pso_hybrid['silhouette']), decimals=10),\n",
    "    ],\n",
    "    'quantization_mean' : [\n",
    "        np.around(np.mean(kmeanspp['quantization']), decimals=10),\n",
    "        np.around(np.mean(pso_plain['quantization']), decimals=10),\n",
    "        np.around(np.mean(pso_hybrid['quantization']), decimals=10),\n",
    "    ],\n",
    "    'quantization_stdev' : [\n",
    "        np.around(np.std(kmeanspp['quantization']), decimals=10),\n",
    "        np.around(np.std(pso_plain['quantization']), decimals=10),\n",
    "        np.around(np.std(pso_hybrid['quantization']), decimals=10),\n",
    "    ],\n",
    "}"
   ]
  },
  {
   "cell_type": "code",
   "execution_count": 34,
   "metadata": {},
   "outputs": [
    {
     "data": {
      "text/plain": [
       "{'method': ['K-Means++', 'PSO', 'PSO Hybrid'],\n",
       " 'quantization_mean': [2.7082928654999998,\n",
       "  2.8964455008000001,\n",
       "  2.7076448866999998],\n",
       " 'quantization_stdev': [0.0, 0.1117984798, 8.5579899999999997e-05],\n",
       " 'silhouette_mean': [0.42210525679999999, 0.3781104596, 0.42212676240000002],\n",
       " 'silhouette_stdev': [0.0, 0.063243413799999995, 0.0],\n",
       " 'sse_mean': [22.024363075699998, 28.695969913300001, 22.027339630299998],\n",
       " 'sse_stdev': [0.0, 5.6574814616999998, 0.0014085896]}"
      ]
     },
     "execution_count": 34,
     "metadata": {},
     "output_type": "execute_result"
    }
   ],
   "source": [
    "benchmark"
   ]
  },
  {
   "cell_type": "code",
   "execution_count": 35,
   "metadata": {},
   "outputs": [
    {
     "data": {
      "text/html": [
       "<div>\n",
       "<style>\n",
       "    .dataframe thead tr:only-child th {\n",
       "        text-align: right;\n",
       "    }\n",
       "\n",
       "    .dataframe thead th {\n",
       "        text-align: left;\n",
       "    }\n",
       "\n",
       "    .dataframe tbody tr th {\n",
       "        vertical-align: top;\n",
       "    }\n",
       "</style>\n",
       "<table border=\"1\" class=\"dataframe\">\n",
       "  <thead>\n",
       "    <tr style=\"text-align: right;\">\n",
       "      <th></th>\n",
       "      <th>method</th>\n",
       "      <th>quantization_mean</th>\n",
       "      <th>quantization_stdev</th>\n",
       "      <th>silhouette_mean</th>\n",
       "      <th>silhouette_stdev</th>\n",
       "      <th>sse_mean</th>\n",
       "      <th>sse_stdev</th>\n",
       "    </tr>\n",
       "  </thead>\n",
       "  <tbody>\n",
       "    <tr>\n",
       "      <th>0</th>\n",
       "      <td>K-Means++</td>\n",
       "      <td>2.708293</td>\n",
       "      <td>0.000000</td>\n",
       "      <td>0.422105</td>\n",
       "      <td>0.000000</td>\n",
       "      <td>22.024363</td>\n",
       "      <td>0.000000</td>\n",
       "    </tr>\n",
       "    <tr>\n",
       "      <th>1</th>\n",
       "      <td>PSO</td>\n",
       "      <td>2.896446</td>\n",
       "      <td>0.111798</td>\n",
       "      <td>0.378110</td>\n",
       "      <td>0.063243</td>\n",
       "      <td>28.695970</td>\n",
       "      <td>5.657481</td>\n",
       "    </tr>\n",
       "    <tr>\n",
       "      <th>2</th>\n",
       "      <td>PSO Hybrid</td>\n",
       "      <td>2.707645</td>\n",
       "      <td>0.000086</td>\n",
       "      <td>0.422127</td>\n",
       "      <td>0.000000</td>\n",
       "      <td>22.027340</td>\n",
       "      <td>0.001409</td>\n",
       "    </tr>\n",
       "  </tbody>\n",
       "</table>\n",
       "</div>"
      ],
      "text/plain": [
       "       method  quantization_mean  quantization_stdev  silhouette_mean  \\\n",
       "0   K-Means++           2.708293            0.000000         0.422105   \n",
       "1         PSO           2.896446            0.111798         0.378110   \n",
       "2  PSO Hybrid           2.707645            0.000086         0.422127   \n",
       "\n",
       "   silhouette_stdev   sse_mean  sse_stdev  \n",
       "0          0.000000  22.024363   0.000000  \n",
       "1          0.063243  28.695970   5.657481  \n",
       "2          0.000000  22.027340   0.001409  "
      ]
     },
     "execution_count": 35,
     "metadata": {},
     "output_type": "execute_result"
    }
   ],
   "source": [
    "benchmark_df = pd.DataFrame.from_dict(benchmark)\n",
    "benchmark_df"
   ]
  },
  {
   "cell_type": "code",
   "execution_count": 37,
   "metadata": {},
   "outputs": [],
   "source": [
    "benchmark_df.to_excel('benchmark_res.xlsx', index=False)"
   ]
  },
  {
   "cell_type": "code",
   "execution_count": 38,
   "metadata": {},
   "outputs": [],
   "source": [
    "benchmark_df.to_csv('benchmark_res.csv', index=False)"
   ]
  },
  {
   "cell_type": "code",
   "execution_count": null,
   "metadata": {},
   "outputs": [],
   "source": []
  }
 ],
 "metadata": {
  "kernelspec": {
   "display_name": "Python 3",
   "language": "python",
   "name": "python3"
  },
  "language_info": {
   "codemirror_mode": {
    "name": "ipython",
    "version": 3
   },
   "file_extension": ".py",
   "mimetype": "text/x-python",
   "name": "python",
   "nbconvert_exporter": "python",
   "pygments_lexer": "ipython3",
   "version": "3.6.1"
  }
 },
 "nbformat": 4,
 "nbformat_minor": 2
}
